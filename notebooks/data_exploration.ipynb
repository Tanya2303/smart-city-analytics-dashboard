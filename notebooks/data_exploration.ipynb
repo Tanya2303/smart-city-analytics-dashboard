{
 "cells": [
  {
   "cell_type": "code",
   "execution_count": 14,
   "id": "7c0c99ea",
   "metadata": {},
   "outputs": [
    {
     "name": "stdout",
     "output_type": "stream",
     "text": [
      "<class 'pandas.core.frame.DataFrame'>\n",
      "RangeIndex: 1 entries, 0 to 0\n",
      "Data columns (total 5 columns):\n",
      " #   Column       Non-Null Count  Dtype         \n",
      "---  ------       --------------  -----         \n",
      " 0   city         1 non-null      object        \n",
      " 1   temperature  1 non-null      float64       \n",
      " 2   humidity     1 non-null      int64         \n",
      " 3   weather      1 non-null      object        \n",
      " 4   timestamp    1 non-null      datetime64[ns]\n",
      "dtypes: datetime64[ns](1), float64(1), int64(1), object(2)\n",
      "memory usage: 172.0+ bytes\n",
      "None\n",
      "        city  temperature  humidity          weather  \\\n",
      "0  Bengaluru        27.08        66  overcast clouds   \n",
      "\n",
      "                   timestamp  \n",
      "0 2025-09-14 12:46:49.429333  \n"
     ]
    }
   ],
   "source": [
    "import pandas as pd\n",
    "\n",
    "# Read CSV\n",
    "df_weather = pd.read_csv(\"../data/weather_data.csv\")\n",
    "\n",
    "# Convert timestamp to datetime\n",
    "df_weather['timestamp'] = pd.to_datetime(df_weather['timestamp'])\n",
    "\n",
    "# Check data\n",
    "print(df_weather.info())\n",
    "print(df_weather.head())\n"
   ]
  },
  {
   "cell_type": "code",
   "execution_count": 15,
   "id": "2da9761f",
   "metadata": {},
   "outputs": [
    {
     "name": "stdout",
     "output_type": "stream",
     "text": [
      "city           0\n",
      "temperature    0\n",
      "humidity       0\n",
      "weather        0\n",
      "timestamp      0\n",
      "dtype: int64\n"
     ]
    }
   ],
   "source": [
    "# Check for missing values\n",
    "print(df_weather.isnull().sum())\n",
    "\n",
    "# Drop duplicates if any\n",
    "df_weather = df_weather.drop_duplicates()\n"
   ]
  },
  {
   "cell_type": "code",
   "execution_count": 16,
   "id": "f04c6640",
   "metadata": {},
   "outputs": [],
   "source": [
    "df_weather['hour'] = df_weather['timestamp'].dt.hour\n",
    "df_weather['day'] = df_weather['timestamp'].dt.date\n",
    "df_weather['month'] = df_weather['timestamp'].dt.month\n"
   ]
  },
  {
   "cell_type": "code",
   "execution_count": 17,
   "id": "b8247308",
   "metadata": {},
   "outputs": [
    {
     "name": "stdout",
     "output_type": "stream",
     "text": [
      "city           0\n",
      "temperature    0\n",
      "humidity       0\n",
      "weather        0\n",
      "timestamp      0\n",
      "hour           0\n",
      "day            0\n",
      "month          0\n",
      "dtype: int64\n"
     ]
    }
   ],
   "source": [
    "print(df_weather.isnull().sum())"
   ]
  },
  {
   "cell_type": "code",
   "execution_count": 18,
   "id": "5a23c0e6",
   "metadata": {},
   "outputs": [
    {
     "name": "stderr",
     "output_type": "stream",
     "text": [
      "/var/folders/br/xffnd4c50qz1ktjxwt4zvv7r0000gn/T/ipykernel_15490/123779186.py:1: FutureWarning: Series.fillna with 'method' is deprecated and will raise in a future version. Use obj.ffill() or obj.bfill() instead.\n",
      "  df_weather['temperature'] = df_weather['temperature'].fillna(method='ffill')\n"
     ]
    }
   ],
   "source": [
    "df_weather['temperature'] = df_weather['temperature'].fillna(method='ffill')"
   ]
  },
  {
   "cell_type": "code",
   "execution_count": 22,
   "id": "dfbebe89",
   "metadata": {},
   "outputs": [
    {
     "name": "stdout",
     "output_type": "stream",
     "text": [
      "410\n",
      "{'message': 'Gone. Version 1 and Version 2 API endpoints are retired and no longer available. Please migrate to Version 3 endpoints.'}\n"
     ]
    }
   ],
   "source": [
    "print(response.status_code)\n",
    "print(response.json())  # See what the API actually returned\n"
   ]
  },
  {
   "cell_type": "code",
   "execution_count": 21,
   "id": "869280ed",
   "metadata": {},
   "outputs": [
    {
     "name": "stdout",
     "output_type": "stream",
     "text": [
      "/Users/tanya2303/Desktop/Dev/Projects/Dashboard/smart-city-analytics-dashboard/notebooks\n"
     ]
    }
   ],
   "source": [
    "import os\n",
    "print(os.getcwd())\n"
   ]
  },
  {
   "cell_type": "code",
   "execution_count": 23,
   "id": "240c4824",
   "metadata": {},
   "outputs": [
    {
     "name": "stdout",
     "output_type": "stream",
     "text": [
      "410\n",
      "{'message': 'Gone. Version 1 and Version 2 API endpoints are retired and no longer available. Please migrate to Version 3 endpoints.'}\n"
     ]
    }
   ],
   "source": [
    "print(response.status_code)\n",
    "print(response.json())  # See what the API actually returned"
   ]
  },
  {
   "cell_type": "code",
   "execution_count": null,
   "id": "b3340fc7",
   "metadata": {},
   "outputs": [],
   "source": []
  }
 ],
 "metadata": {
  "kernelspec": {
   "display_name": "venv",
   "language": "python",
   "name": "python3"
  },
  "language_info": {
   "codemirror_mode": {
    "name": "ipython",
    "version": 3
   },
   "file_extension": ".py",
   "mimetype": "text/x-python",
   "name": "python",
   "nbconvert_exporter": "python",
   "pygments_lexer": "ipython3",
   "version": "3.12.0"
  }
 },
 "nbformat": 4,
 "nbformat_minor": 5
}
